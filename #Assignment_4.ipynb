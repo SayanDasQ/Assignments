{
 "cells": [
  {
   "cell_type": "markdown",
   "metadata": {},
   "source": [
    "# Assignment 4\n",
    "\n",
    "# Implementing Neural Network using Python"
   ]
  },
  {
   "cell_type": "markdown",
   "metadata": {},
   "source": [
    "Contents :\n",
    "\n",
    "* Data extraction\n",
    "* Visualizing the data\n",
    "* Data engineeering (one hot encoding)\n",
    "* Building sigmoid and cost functions\n",
    "* Setting the hyperparameters : \n",
    "    * No. of neurons in hidden layer = 160\n",
    "    * Learning rate = 0.1\n",
    "    * Iterations = 100\n",
    "* Training the data: Forward and backward propagation\n",
    "* Error vs. iteration curve \n",
    "* Validating on the test set\n",
    "* Training set accuracy: 95.59 %\n",
    "* Test set accuracy: 96.29 %"
   ]
  },
  {
   "cell_type": "code",
   "execution_count": null,
   "metadata": {},
   "outputs": [],
   "source": [
    "import numpy as np\n",
    "import pandas as pd\n",
    "import matplotlib.pyplot as plt\n",
    "import struct\n",
    "import os"
   ]
  },
  {
   "cell_type": "code",
   "execution_count": 2,
   "metadata": {},
   "outputs": [],
   "source": [
    "def load_mnist(path, kind = 'train'):\n",
    "    \"Load MNIST data from path\"\n",
    "    images_path = os.path.join(path, '%s-images.idx3-ubyte' %kind)\n",
    "    labels_path = os.path.join(path, '%s-labels.idx1-ubyte' %kind)\n",
    "    \n",
    "    with open(labels_path, 'rb') as lbpath:\n",
    "        magic, n = struct.unpack('>II', lbpath.read(8))\n",
    "        labels = np.fromfile(lbpath, dtype=np.uint8)\n",
    "    with open(images_path, 'rb') as imgpath:\n",
    "        magic, num, rows, cols = struct.unpack('>IIII', imgpath.read(16))\n",
    "        images = np.fromfile(imgpath, dtype=np.uint8).reshape(len(labels), 784)\n",
    "    return images, labels"
   ]
  },
  {
   "cell_type": "markdown",
   "metadata": {},
   "source": [
    "# Data extraction"
   ]
  },
  {
   "cell_type": "code",
   "execution_count": 3,
   "metadata": {},
   "outputs": [
    {
     "data": {
      "text/plain": [
       "((60000, 784), (60000,))"
      ]
     },
     "execution_count": 3,
     "metadata": {},
     "output_type": "execute_result"
    }
   ],
   "source": [
    "x, y = load_mnist('/home/sayan/Documents/Assignment_4_files/', kind='train')\n",
    "x.shape, y.shape"
   ]
  },
  {
   "cell_type": "code",
   "execution_count": 4,
   "metadata": {},
   "outputs": [
    {
     "data": {
      "text/plain": [
       "((10000, 784), (10000,))"
      ]
     },
     "execution_count": 4,
     "metadata": {},
     "output_type": "execute_result"
    }
   ],
   "source": [
    "x_test, y_test = load_mnist('/home/sayan/Documents/Assignment_4_files/', kind='t10k')\n",
    "x_test.shape, y_test.shape"
   ]
  },
  {
   "cell_type": "markdown",
   "metadata": {},
   "source": [
    "# Visualizing the data"
   ]
  },
  {
   "cell_type": "code",
   "execution_count": 5,
   "metadata": {},
   "outputs": [
    {
     "data": {
      "image/png": "[encoded data removed]",
      "text/plain": [
       "<Figure size 432x288 with 10 Axes>"
      ]
     },
     "metadata": {},
     "output_type": "display_data"
    }
   ],
   "source": [
    "fig, ax = plt.subplots(nrows=2, ncols=5, sharex=True, sharey=True)\n",
    "ax = ax.flatten()\n",
    "for i in range(10):\n",
    "    img = x[y == i][0].reshape(28, 28)\n",
    "    ax[i].imshow(img, cmap='Greys', interpolation='nearest')\n",
    "ax[0].set_xticks([])\n",
    "ax[0].set_yticks([])\n",
    "plt.tight_layout()\n",
    "plt.show()"
   ]
  },
  {
   "cell_type": "code",
   "execution_count": 6,
   "metadata": {},
   "outputs": [],
   "source": [
    "import warnings\n",
    "warnings.simplefilter(action='ignore', category=FutureWarning)"
   ]
  },
  {
   "cell_type": "code",
   "execution_count": 7,
   "metadata": {},
   "outputs": [
    {
     "data": {
      "text/plain": [
       "60000"
      ]
     },
     "execution_count": 7,
     "metadata": {},
     "output_type": "execute_result"
    }
   ],
   "source": [
    "len(y)"
   ]
  },
  {
   "cell_type": "code",
   "execution_count": 9,
   "metadata": {},
   "outputs": [],
   "source": [
    "#Converting array to one-hot encoding\n",
    "\n",
    "def to_one_hot(y):\n",
    "    n_col =10\n",
    "    binarized = np.zeros((int(n_col),len(y)))\n",
    "    for i in range(len(y)):\n",
    "        binarized[y[i],i] = 1\n",
    "    return binarized\n",
    "\n",
    "\n",
    "#Converting one-hot encoding to array\n",
    "def from_one_hot(y):\n",
    "    arr = np.zeros((len(y), 1))\n",
    "    for i in range(len(y)):\n",
    "        l = layer2[i]\n",
    "        for j in range(len(l)):\n",
    "            if(l[j] == 1):\n",
    "                arr[i] = j+1\n",
    "    return arr"
   ]
  },
  {
   "cell_type": "code",
   "execution_count": 10,
   "metadata": {},
   "outputs": [],
   "source": [
    "#Sigmoid and its derivative\n",
    "def sigmoid(x):\n",
    "    return 1/(1 + np.exp(-x))\n",
    "\n",
    "def sigmoid_deriv(x):\n",
    "    return sigmoid(x)*(1-sigmoid(x))\n",
    "\n",
    "#Data is already normalized and centred "
   ]
  },
  {
   "cell_type": "code",
   "execution_count": 11,
   "metadata": {},
   "outputs": [
    {
     "data": {
      "text/plain": [
       "(60000,)"
      ]
     },
     "execution_count": 11,
     "metadata": {},
     "output_type": "execute_result"
    }
   ],
   "source": [
    "y.shape"
   ]
  },
  {
   "cell_type": "code",
   "execution_count": 17,
   "metadata": {},
   "outputs": [],
   "source": [
    "#data manipulation\n",
    "def manp(z):\n",
    "    z=np.reshape(z,(len(z),1))\n",
    "    z = to_one_hot(z)\n",
    "    z = z.T\n",
    "    return z\n",
    "\n",
    "y = manp(y)\n",
    "y_test = manp(y_test)\n",
    "\n",
    "assert y.shape == (60000,10)\n",
    "assert y_test.shape == (10000,10)"
   ]
  },
  {
   "cell_type": "code",
   "execution_count": 18,
   "metadata": {},
   "outputs": [
    {
     "data": {
      "text/plain": [
       "((60000, 784), (10000, 784))"
      ]
     },
     "execution_count": 18,
     "metadata": {},
     "output_type": "execute_result"
    }
   ],
   "source": [
    "x.shape, x_test.shape\n"
   ]
  },
  {
   "cell_type": "code",
   "execution_count": 19,
   "metadata": {},
   "outputs": [],
   "source": [
    "# #splitting data\n",
    "# from sklearn.model_selection import train_test_split\n",
    "# x_train, x_cv, y_train, y_cv = train_test_split(x, y, test_size=0.2)"
   ]
  },
  {
   "cell_type": "code",
   "execution_count": 20,
   "metadata": {},
   "outputs": [
    {
     "data": {
      "text/plain": [
       "784"
      ]
     },
     "execution_count": 20,
     "metadata": {},
     "output_type": "execute_result"
    }
   ],
   "source": [
    "x.shape[1]"
   ]
  },
  {
   "cell_type": "code",
   "execution_count": 22,
   "metadata": {},
   "outputs": [
    {
     "data": {
      "text/plain": [
       "array([[0, 0, 0, ..., 0, 0, 0],\n",
       "       [0, 0, 0, ..., 0, 0, 0],\n",
       "       [0, 0, 0, ..., 0, 0, 0],\n",
       "       ...,\n",
       "       [0, 0, 0, ..., 0, 0, 0],\n",
       "       [0, 0, 0, ..., 0, 0, 0],\n",
       "       [0, 0, 0, ..., 0, 0, 0]], dtype=uint8)"
      ]
     },
     "execution_count": 22,
     "metadata": {},
     "output_type": "execute_result"
    }
   ],
   "source": [
    "x"
   ]
  },
  {
   "cell_type": "code",
   "execution_count": 24,
   "metadata": {},
   "outputs": [],
   "source": [
    "# Assigning weights\n",
    "p = 150 #Parameters in hidden layer = 150 + 10 = 160\n",
    "\n",
    "w0=np.zeros((x.shape[1] + 1,y.shape[1] + p))\n",
    "           \n",
    "for i in range(0,x.shape[1] + 1):\n",
    "           for j in range(0, y.shape[1] + p):\n",
    "               w0[i,j] = np.random.randn()\n",
    "\n",
    "from pprint import pprint                \n",
    "#pprint(w0)\n",
    "\n",
    "w1=np.zeros((y.shape[1] + p + 1, y.shape[1]))\n",
    "           \n",
    "for i in range(0,y.shape[1] + p + 1):\n",
    "           for j in range(0, y.shape[1]):\n",
    "               w1[i,j] = np.random.randn()\n",
    "\n",
    "from pprint import pprint                \n",
    "#pprint(w1)"
   ]
  },
  {
   "cell_type": "code",
   "execution_count": 25,
   "metadata": {},
   "outputs": [
    {
     "data": {
      "text/plain": [
       "((785, 160), (161, 10))"
      ]
     },
     "execution_count": 25,
     "metadata": {},
     "output_type": "execute_result"
    }
   ],
   "source": [
    "w0.shape, w1.shape"
   ]
  },
  {
   "cell_type": "code",
   "execution_count": 26,
   "metadata": {},
   "outputs": [],
   "source": [
    "#Cost Function\n",
    "\n",
    "def cost_func(h, y):\n",
    "    cost = -(1/(y.shape[0]))*(np.sum((np.log(h)) * y) + np.sum((np.log(1-h)) * (1-y)))\n",
    "    return cost"
   ]
  },
  {
   "cell_type": "code",
   "execution_count": 27,
   "metadata": {},
   "outputs": [
    {
     "name": "stdout",
     "output_type": "stream",
     "text": [
      "0 out of 100 iterations completed. \n",
      "\tCorresponding accuracy = 58.11%\n",
      "10 out of 100 iterations completed. \n",
      "\tCorresponding accuracy = 93.02%\n",
      "20 out of 100 iterations completed. \n",
      "\tCorresponding accuracy = 94.8%\n",
      "30 out of 100 iterations completed. \n",
      "\tCorresponding accuracy = 95.33%\n",
      "40 out of 100 iterations completed. \n",
      "\tCorresponding accuracy = 95.73%\n",
      "50 out of 100 iterations completed. \n",
      "\tCorresponding accuracy = 96.01%\n",
      "60 out of 100 iterations completed. \n",
      "\tCorresponding accuracy = 96.25%\n",
      "70 out of 100 iterations completed. \n",
      "\tCorresponding accuracy = 96.45%\n",
      "80 out of 100 iterations completed. \n",
      "\tCorresponding accuracy = 96.48%\n",
      "90 out of 100 iterations completed. \n",
      "\tCorresponding accuracy = 96.45%\n"
     ]
    },
    {
     "data": {
      "image/png": "[encoded data removed]",
      "text/plain": [
       "<Figure size 432x288 with 1 Axes>"
      ]
     },
     "metadata": {
      "needs_background": "light"
     },
     "output_type": "display_data"
    },
    {
     "name": "stdout",
     "output_type": "stream",
     "text": [
      "Final cost = 1.4790839872064054\n",
      "Training accuracy 95.59%\n"
     ]
    }
   ],
   "source": [
    "#learning rate\n",
    "n = 0.1\n",
    "m = x.shape[0]\n",
    "#Errors - for graph\n",
    "errors = []\n",
    "\n",
    "#Iterations\n",
    "iters = 100\n",
    "\n",
    "#Train\n",
    "\n",
    "for i in range(iters):\n",
    "    \n",
    "    #Forwad propagation\n",
    "    layer0 = x\n",
    "    \n",
    "    ones = np.ones([x.shape[0],1])\n",
    "    layer0b= np.concatenate([ones,x],1)\n",
    "    \n",
    "    z1 = np.dot(layer0b, w0)\n",
    "    layer1 = sigmoid(z1)\n",
    "    \n",
    "    #Adding bias term\n",
    "    ones_w0 = np.ones([layer1.shape[0],1])\n",
    "    layer1b= np.concatenate([ones_w0,layer1],1)\n",
    "    \n",
    "    z2 = np.dot(layer1b, w1)\n",
    "    layer2 = sigmoid(z2)\n",
    "    #layer2 = np.exp(np.dot(layer1b, w1))/np.sum(np.exp(np.dot(layer1b, w1)), axis = 0)\n",
    "    \n",
    "    #Back propagation using gradient descent\n",
    "    layer2_error = y - layer2\n",
    "    layer2_delta = layer2_error #* sigmoid_deriv(layer2)\n",
    "\n",
    "    \n",
    "    layer1_error = layer2_delta.dot((w1[1:,:]).T)\n",
    "    layer1_delta = layer1_error * sigmoid_deriv(layer1)\n",
    "\n",
    "    w1 += (1/m)*layer1b.T.dot(layer2_delta) * n\n",
    "    w0 += (1/m)*layer0b.T.dot(layer1_delta) * n\n",
    "    \n",
    "    error = np.mean(np.abs(layer2_error))\n",
    "    errors.append(error)\n",
    "    accuracy = (1 - error) * 100\n",
    "    \n",
    "    if i%10 == 0:\n",
    "        print(str(i) + \" out of \" + str(iters) + \" iterations completed. \" + \"\\n\\tCorresponding accuracy = \" + str(round(accuracy,2)) + \"%\")\n",
    "    \n",
    "#Plot the accuracy chart\n",
    "plt.plot(errors)\n",
    "plt.xlabel('Training')\n",
    "plt.ylabel('Error')\n",
    "plt.show()\n",
    "\n",
    "cost = cost_func(layer2, y)\n",
    "print(\"Final cost = \" + str(cost))\n",
    "print(\"Training accuracy \" + str(round(accuracy,2)) + \"%\")"
   ]
  },
  {
   "cell_type": "code",
   "execution_count": 28,
   "metadata": {},
   "outputs": [
    {
     "name": "stdout",
     "output_type": "stream",
     "text": [
      "Final cost = 1.3594272909796268\n",
      "Validation Accuracy 96.29%\n"
     ]
    }
   ],
   "source": [
    "#Validation\n",
    "\n",
    "layer0t = x_test\n",
    "layer0tb = np.concatenate(  [  (np.ones([layer0t.shape[0],1]))  ,layer0t],1)\n",
    "layer1t = sigmoid(np.dot(layer0tb, w0))\n",
    "layer1tb = np.concatenate(  [  (np.ones([layer1t.shape[0],1]))  ,layer1t],1)\n",
    "layer2t = sigmoid(np.dot(layer1tb, w1))\n",
    "\n",
    "layer2t_error = y_test - layer2t\n",
    "\n",
    "error_test = np.mean(np.abs(layer2t_error))\n",
    "accuracy_test = (1 - error_test) * 100\n",
    "\n",
    "test_cost = cost_func(layer2t, y_test)\n",
    "print(\"Final cost = \" + str(test_cost))\n",
    "print(\"Validation Accuracy \" + str(round(accuracy_test, 2)) + \"%\")"
   ]
  },
  {
   "cell_type": "code",
   "execution_count": null,
   "metadata": {},
   "outputs": [],
   "source": []
  }
 ],
 "metadata": {
  "kernelspec": {
   "display_name": "Python 3",
   "language": "python",
   "name": "python3"
  },
  "language_info": {
   "codemirror_mode": {
    "name": "ipython",
    "version": 3
   },
   "file_extension": ".py",
   "mimetype": "text/x-python",
   "name": "python",
   "nbconvert_exporter": "python",
   "pygments_lexer": "ipython3",
   "version": "3.7.3"
  }
 },
 "nbformat": 4,
 "nbformat_minor": 2
}
